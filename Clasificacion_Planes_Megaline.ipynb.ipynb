{
 "cells": [
  {
   "cell_type": "markdown",
   "metadata": {},
   "source": [
    "# Introducción al Proyecto\n",
    "\n",
    "La compañía móvil Megaline está enfocada en optimizar su oferta de planes debido a la insatisfacción causada por el hecho de que muchos clientes todavía utilizan planes heredados. La importancia de este proyecto radica en la necesidad de ajustar los planes para asegurar que los usuarios estén completamente satisfechos con sus servicios, lo cual es crucial para mejorar la retención de clientes y maximizar los ingresos.\n",
    "\n",
    "    Objetivo del Proyecto\n",
    "\n",
    "El objetivo principal de este proyecto es desarrollar un modelo de clasificación que recomiende el plan más adecuado, ya sea Smart o Ultra, para satisfacer las necesidades de los clientes de Megaline. La empresa proporcionó datos sobre el comportamiento de sus suscriptores para llevar a cabo este análisis. Utilizaremos estos datos para evaluar el éxito del modelo, centrándonos en la capacidad del modelo para clasificar correctamente los planes de acuerdo con las características del usuario.\n",
    "\n",
    "    Datos y Enfoque del Modelo\n",
    "\n",
    "El conjunto de datos disponible incluye información sobre los suscriptores de Megaline, detallando en qué plan se encuentran actualmente. Los datos fueron proporcionados por la empresa y representan el comportamiento mensual de los clientes. El uso de modelos de clasificación es esencial en este contexto, ya que nos permite categorizar a los clientes en dos grupos: aquellos que se beneficiarían más del plan Smart y aquellos para quienes el plan Ultra sería más adecuado.\n",
    "\n",
    "Aunque aún no se han decidido los modelos específicos a probar, el enfoque inicial es investigar diferentes algoritmos de clasificación para determinar cuál se adapta mejor a este conjunto de datos.\n",
    "\n",
    "    Expectativas y Desafíos\n",
    "\n",
    "Las expectativas para este proyecto incluyen proporcionar información relevante que permita a Megaline comprender qué plan se adapta mejor a sus clientes. Aunque aún estamos explorando qué modelos y métodos serán los más efectivos, anticipamos que el desafío principal será identificar el modelo que maximice la precisión y eficiencia de las recomendaciones.\n",
    "\n"
   ]
  },
  {
   "cell_type": "code",
   "execution_count": 1,
   "metadata": {},
   "outputs": [],
   "source": [
    "#importar bibliotecas\n",
    "import pandas as pd\n",
    "import numpy as np\n",
    "from sklearn.model_selection import train_test_split\n",
    "from sklearn.linear_model import LogisticRegression\n",
    "from sklearn.metrics import accuracy_score\n",
    "from sklearn.ensemble import RandomForestClassifier\n",
    "from sklearn.tree import DecisionTreeClassifier\n",
    "from sklearn.model_selection import GridSearchCV\n",
    "import matplotlib.pyplot as plt\n",
    "import numpy as np\n",
    "from sklearn.tree import plot_tree\n",
    "from sklearn.model_selection import cross_val_score\n",
    "from sklearn.metrics import roc_curve, auc\n",
    "from sklearn.dummy import DummyClassifier"
   ]
  },
  {
   "cell_type": "markdown",
   "metadata": {},
   "source": [
    "#### PREPARACION DE DATOS"
   ]
  },
  {
   "cell_type": "code",
   "execution_count": 2,
   "metadata": {},
   "outputs": [
    {
     "name": "stdout",
     "output_type": "stream",
     "text": [
      "<class 'pandas.core.frame.DataFrame'>\n",
      "RangeIndex: 3214 entries, 0 to 3213\n",
      "Data columns (total 5 columns):\n",
      " #   Column    Non-Null Count  Dtype  \n",
      "---  ------    --------------  -----  \n",
      " 0   calls     3214 non-null   float64\n",
      " 1   minutes   3214 non-null   float64\n",
      " 2   messages  3214 non-null   float64\n",
      " 3   mb_used   3214 non-null   float64\n",
      " 4   is_ultra  3214 non-null   int64  \n",
      "dtypes: float64(4), int64(1)\n",
      "memory usage: 125.7 KB\n"
     ]
    },
    {
     "data": {
      "text/html": [
       "<div>\n",
       "<style scoped>\n",
       "    .dataframe tbody tr th:only-of-type {\n",
       "        vertical-align: middle;\n",
       "    }\n",
       "\n",
       "    .dataframe tbody tr th {\n",
       "        vertical-align: top;\n",
       "    }\n",
       "\n",
       "    .dataframe thead th {\n",
       "        text-align: right;\n",
       "    }\n",
       "</style>\n",
       "<table border=\"1\" class=\"dataframe\">\n",
       "  <thead>\n",
       "    <tr style=\"text-align: right;\">\n",
       "      <th></th>\n",
       "      <th>calls</th>\n",
       "      <th>minutes</th>\n",
       "      <th>messages</th>\n",
       "      <th>mb_used</th>\n",
       "      <th>is_ultra</th>\n",
       "    </tr>\n",
       "  </thead>\n",
       "  <tbody>\n",
       "    <tr>\n",
       "      <th>0</th>\n",
       "      <td>40.0</td>\n",
       "      <td>311.90</td>\n",
       "      <td>83.0</td>\n",
       "      <td>19915.42</td>\n",
       "      <td>0</td>\n",
       "    </tr>\n",
       "    <tr>\n",
       "      <th>1</th>\n",
       "      <td>85.0</td>\n",
       "      <td>516.75</td>\n",
       "      <td>56.0</td>\n",
       "      <td>22696.96</td>\n",
       "      <td>0</td>\n",
       "    </tr>\n",
       "    <tr>\n",
       "      <th>2</th>\n",
       "      <td>77.0</td>\n",
       "      <td>467.66</td>\n",
       "      <td>86.0</td>\n",
       "      <td>21060.45</td>\n",
       "      <td>0</td>\n",
       "    </tr>\n",
       "    <tr>\n",
       "      <th>3</th>\n",
       "      <td>106.0</td>\n",
       "      <td>745.53</td>\n",
       "      <td>81.0</td>\n",
       "      <td>8437.39</td>\n",
       "      <td>1</td>\n",
       "    </tr>\n",
       "    <tr>\n",
       "      <th>4</th>\n",
       "      <td>66.0</td>\n",
       "      <td>418.74</td>\n",
       "      <td>1.0</td>\n",
       "      <td>14502.75</td>\n",
       "      <td>0</td>\n",
       "    </tr>\n",
       "    <tr>\n",
       "      <th>...</th>\n",
       "      <td>...</td>\n",
       "      <td>...</td>\n",
       "      <td>...</td>\n",
       "      <td>...</td>\n",
       "      <td>...</td>\n",
       "    </tr>\n",
       "    <tr>\n",
       "      <th>3209</th>\n",
       "      <td>122.0</td>\n",
       "      <td>910.98</td>\n",
       "      <td>20.0</td>\n",
       "      <td>35124.90</td>\n",
       "      <td>1</td>\n",
       "    </tr>\n",
       "    <tr>\n",
       "      <th>3210</th>\n",
       "      <td>25.0</td>\n",
       "      <td>190.36</td>\n",
       "      <td>0.0</td>\n",
       "      <td>3275.61</td>\n",
       "      <td>0</td>\n",
       "    </tr>\n",
       "    <tr>\n",
       "      <th>3211</th>\n",
       "      <td>97.0</td>\n",
       "      <td>634.44</td>\n",
       "      <td>70.0</td>\n",
       "      <td>13974.06</td>\n",
       "      <td>0</td>\n",
       "    </tr>\n",
       "    <tr>\n",
       "      <th>3212</th>\n",
       "      <td>64.0</td>\n",
       "      <td>462.32</td>\n",
       "      <td>90.0</td>\n",
       "      <td>31239.78</td>\n",
       "      <td>0</td>\n",
       "    </tr>\n",
       "    <tr>\n",
       "      <th>3213</th>\n",
       "      <td>80.0</td>\n",
       "      <td>566.09</td>\n",
       "      <td>6.0</td>\n",
       "      <td>29480.52</td>\n",
       "      <td>1</td>\n",
       "    </tr>\n",
       "  </tbody>\n",
       "</table>\n",
       "<p>3214 rows × 5 columns</p>\n",
       "</div>"
      ],
      "text/plain": [
       "      calls  minutes  messages   mb_used  is_ultra\n",
       "0      40.0   311.90      83.0  19915.42         0\n",
       "1      85.0   516.75      56.0  22696.96         0\n",
       "2      77.0   467.66      86.0  21060.45         0\n",
       "3     106.0   745.53      81.0   8437.39         1\n",
       "4      66.0   418.74       1.0  14502.75         0\n",
       "...     ...      ...       ...       ...       ...\n",
       "3209  122.0   910.98      20.0  35124.90         1\n",
       "3210   25.0   190.36       0.0   3275.61         0\n",
       "3211   97.0   634.44      70.0  13974.06         0\n",
       "3212   64.0   462.32      90.0  31239.78         0\n",
       "3213   80.0   566.09       6.0  29480.52         1\n",
       "\n",
       "[3214 rows x 5 columns]"
      ]
     },
     "execution_count": 2,
     "metadata": {},
     "output_type": "execute_result"
    }
   ],
   "source": [
    "#se imprime el \"df\" para saber los tipos de datos\n",
    "df =pd.read_csv(\"/datasets/users_behavior.csv\")\n",
    "df.info()\n",
    "df"
   ]
  },
  {
   "cell_type": "code",
   "execution_count": 3,
   "metadata": {},
   "outputs": [
    {
     "data": {
      "text/html": [
       "<div>\n",
       "<style scoped>\n",
       "    .dataframe tbody tr th:only-of-type {\n",
       "        vertical-align: middle;\n",
       "    }\n",
       "\n",
       "    .dataframe tbody tr th {\n",
       "        vertical-align: top;\n",
       "    }\n",
       "\n",
       "    .dataframe thead th {\n",
       "        text-align: right;\n",
       "    }\n",
       "</style>\n",
       "<table border=\"1\" class=\"dataframe\">\n",
       "  <thead>\n",
       "    <tr style=\"text-align: right;\">\n",
       "      <th></th>\n",
       "      <th>calls</th>\n",
       "      <th>minutes</th>\n",
       "      <th>messages</th>\n",
       "      <th>mb_used</th>\n",
       "      <th>is_ultra</th>\n",
       "    </tr>\n",
       "  </thead>\n",
       "  <tbody>\n",
       "    <tr>\n",
       "      <th>0</th>\n",
       "      <td>False</td>\n",
       "      <td>False</td>\n",
       "      <td>False</td>\n",
       "      <td>False</td>\n",
       "      <td>False</td>\n",
       "    </tr>\n",
       "    <tr>\n",
       "      <th>1</th>\n",
       "      <td>False</td>\n",
       "      <td>False</td>\n",
       "      <td>False</td>\n",
       "      <td>False</td>\n",
       "      <td>False</td>\n",
       "    </tr>\n",
       "    <tr>\n",
       "      <th>2</th>\n",
       "      <td>False</td>\n",
       "      <td>False</td>\n",
       "      <td>False</td>\n",
       "      <td>False</td>\n",
       "      <td>False</td>\n",
       "    </tr>\n",
       "    <tr>\n",
       "      <th>3</th>\n",
       "      <td>False</td>\n",
       "      <td>False</td>\n",
       "      <td>False</td>\n",
       "      <td>False</td>\n",
       "      <td>False</td>\n",
       "    </tr>\n",
       "    <tr>\n",
       "      <th>4</th>\n",
       "      <td>False</td>\n",
       "      <td>False</td>\n",
       "      <td>False</td>\n",
       "      <td>False</td>\n",
       "      <td>False</td>\n",
       "    </tr>\n",
       "    <tr>\n",
       "      <th>...</th>\n",
       "      <td>...</td>\n",
       "      <td>...</td>\n",
       "      <td>...</td>\n",
       "      <td>...</td>\n",
       "      <td>...</td>\n",
       "    </tr>\n",
       "    <tr>\n",
       "      <th>3209</th>\n",
       "      <td>False</td>\n",
       "      <td>False</td>\n",
       "      <td>False</td>\n",
       "      <td>False</td>\n",
       "      <td>False</td>\n",
       "    </tr>\n",
       "    <tr>\n",
       "      <th>3210</th>\n",
       "      <td>False</td>\n",
       "      <td>False</td>\n",
       "      <td>False</td>\n",
       "      <td>False</td>\n",
       "      <td>False</td>\n",
       "    </tr>\n",
       "    <tr>\n",
       "      <th>3211</th>\n",
       "      <td>False</td>\n",
       "      <td>False</td>\n",
       "      <td>False</td>\n",
       "      <td>False</td>\n",
       "      <td>False</td>\n",
       "    </tr>\n",
       "    <tr>\n",
       "      <th>3212</th>\n",
       "      <td>False</td>\n",
       "      <td>False</td>\n",
       "      <td>False</td>\n",
       "      <td>False</td>\n",
       "      <td>False</td>\n",
       "    </tr>\n",
       "    <tr>\n",
       "      <th>3213</th>\n",
       "      <td>False</td>\n",
       "      <td>False</td>\n",
       "      <td>False</td>\n",
       "      <td>False</td>\n",
       "      <td>False</td>\n",
       "    </tr>\n",
       "  </tbody>\n",
       "</table>\n",
       "<p>3214 rows × 5 columns</p>\n",
       "</div>"
      ],
      "text/plain": [
       "      calls  minutes  messages  mb_used  is_ultra\n",
       "0     False    False     False    False     False\n",
       "1     False    False     False    False     False\n",
       "2     False    False     False    False     False\n",
       "3     False    False     False    False     False\n",
       "4     False    False     False    False     False\n",
       "...     ...      ...       ...      ...       ...\n",
       "3209  False    False     False    False     False\n",
       "3210  False    False     False    False     False\n",
       "3211  False    False     False    False     False\n",
       "3212  False    False     False    False     False\n",
       "3213  False    False     False    False     False\n",
       "\n",
       "[3214 rows x 5 columns]"
      ]
     },
     "execution_count": 3,
     "metadata": {},
     "output_type": "execute_result"
    }
   ],
   "source": [
    "#se verifican datos nulos (no contiene datos nulos)\n",
    "df.isnull()"
   ]
  },
  {
   "cell_type": "code",
   "execution_count": 4,
   "metadata": {},
   "outputs": [
    {
     "data": {
      "text/plain": [
       "<bound method NDFrame._add_numeric_operations.<locals>.sum of       calls  minutes  messages  mb_used  is_ultra\n",
       "0     False    False     False    False     False\n",
       "1     False    False     False    False     False\n",
       "2     False    False     False    False     False\n",
       "3     False    False     False    False     False\n",
       "4     False    False     False    False     False\n",
       "...     ...      ...       ...      ...       ...\n",
       "3209  False    False     False    False     False\n",
       "3210  False    False     False    False     False\n",
       "3211  False    False     False    False     False\n",
       "3212  False    False     False    False     False\n",
       "3213  False    False     False    False     False\n",
       "\n",
       "[3214 rows x 5 columns]>"
      ]
     },
     "execution_count": 4,
     "metadata": {},
     "output_type": "execute_result"
    }
   ],
   "source": [
    "df.isnull().sum"
   ]
  },
  {
   "cell_type": "code",
   "execution_count": 5,
   "metadata": {},
   "outputs": [
    {
     "data": {
      "text/html": [
       "<div>\n",
       "<style scoped>\n",
       "    .dataframe tbody tr th:only-of-type {\n",
       "        vertical-align: middle;\n",
       "    }\n",
       "\n",
       "    .dataframe tbody tr th {\n",
       "        vertical-align: top;\n",
       "    }\n",
       "\n",
       "    .dataframe thead th {\n",
       "        text-align: right;\n",
       "    }\n",
       "</style>\n",
       "<table border=\"1\" class=\"dataframe\">\n",
       "  <thead>\n",
       "    <tr style=\"text-align: right;\">\n",
       "      <th></th>\n",
       "      <th>calls</th>\n",
       "      <th>minutes</th>\n",
       "      <th>messages</th>\n",
       "      <th>mb_used</th>\n",
       "      <th>is_ultra</th>\n",
       "    </tr>\n",
       "  </thead>\n",
       "  <tbody>\n",
       "    <tr>\n",
       "      <th>0</th>\n",
       "      <td>40.0</td>\n",
       "      <td>311.90</td>\n",
       "      <td>83.0</td>\n",
       "      <td>19915.42</td>\n",
       "      <td>0</td>\n",
       "    </tr>\n",
       "    <tr>\n",
       "      <th>1</th>\n",
       "      <td>85.0</td>\n",
       "      <td>516.75</td>\n",
       "      <td>56.0</td>\n",
       "      <td>22696.96</td>\n",
       "      <td>0</td>\n",
       "    </tr>\n",
       "    <tr>\n",
       "      <th>2</th>\n",
       "      <td>77.0</td>\n",
       "      <td>467.66</td>\n",
       "      <td>86.0</td>\n",
       "      <td>21060.45</td>\n",
       "      <td>0</td>\n",
       "    </tr>\n",
       "    <tr>\n",
       "      <th>3</th>\n",
       "      <td>106.0</td>\n",
       "      <td>745.53</td>\n",
       "      <td>81.0</td>\n",
       "      <td>8437.39</td>\n",
       "      <td>1</td>\n",
       "    </tr>\n",
       "    <tr>\n",
       "      <th>4</th>\n",
       "      <td>66.0</td>\n",
       "      <td>418.74</td>\n",
       "      <td>1.0</td>\n",
       "      <td>14502.75</td>\n",
       "      <td>0</td>\n",
       "    </tr>\n",
       "    <tr>\n",
       "      <th>...</th>\n",
       "      <td>...</td>\n",
       "      <td>...</td>\n",
       "      <td>...</td>\n",
       "      <td>...</td>\n",
       "      <td>...</td>\n",
       "    </tr>\n",
       "    <tr>\n",
       "      <th>3209</th>\n",
       "      <td>122.0</td>\n",
       "      <td>910.98</td>\n",
       "      <td>20.0</td>\n",
       "      <td>35124.90</td>\n",
       "      <td>1</td>\n",
       "    </tr>\n",
       "    <tr>\n",
       "      <th>3210</th>\n",
       "      <td>25.0</td>\n",
       "      <td>190.36</td>\n",
       "      <td>0.0</td>\n",
       "      <td>3275.61</td>\n",
       "      <td>0</td>\n",
       "    </tr>\n",
       "    <tr>\n",
       "      <th>3211</th>\n",
       "      <td>97.0</td>\n",
       "      <td>634.44</td>\n",
       "      <td>70.0</td>\n",
       "      <td>13974.06</td>\n",
       "      <td>0</td>\n",
       "    </tr>\n",
       "    <tr>\n",
       "      <th>3212</th>\n",
       "      <td>64.0</td>\n",
       "      <td>462.32</td>\n",
       "      <td>90.0</td>\n",
       "      <td>31239.78</td>\n",
       "      <td>0</td>\n",
       "    </tr>\n",
       "    <tr>\n",
       "      <th>3213</th>\n",
       "      <td>80.0</td>\n",
       "      <td>566.09</td>\n",
       "      <td>6.0</td>\n",
       "      <td>29480.52</td>\n",
       "      <td>1</td>\n",
       "    </tr>\n",
       "  </tbody>\n",
       "</table>\n",
       "<p>3214 rows × 5 columns</p>\n",
       "</div>"
      ],
      "text/plain": [
       "      calls  minutes  messages   mb_used  is_ultra\n",
       "0      40.0   311.90      83.0  19915.42         0\n",
       "1      85.0   516.75      56.0  22696.96         0\n",
       "2      77.0   467.66      86.0  21060.45         0\n",
       "3     106.0   745.53      81.0   8437.39         1\n",
       "4      66.0   418.74       1.0  14502.75         0\n",
       "...     ...      ...       ...       ...       ...\n",
       "3209  122.0   910.98      20.0  35124.90         1\n",
       "3210   25.0   190.36       0.0   3275.61         0\n",
       "3211   97.0   634.44      70.0  13974.06         0\n",
       "3212   64.0   462.32      90.0  31239.78         0\n",
       "3213   80.0   566.09       6.0  29480.52         1\n",
       "\n",
       "[3214 rows x 5 columns]"
      ]
     },
     "execution_count": 5,
     "metadata": {},
     "output_type": "execute_result"
    }
   ],
   "source": [
    "#se revisa que no contenga datos duplicados (no contiene datos duplicados)\n",
    "df.drop_duplicates()"
   ]
  },
  {
   "cell_type": "code",
   "execution_count": 6,
   "metadata": {},
   "outputs": [
    {
     "data": {
      "text/html": [
       "<div>\n",
       "<style scoped>\n",
       "    .dataframe tbody tr th:only-of-type {\n",
       "        vertical-align: middle;\n",
       "    }\n",
       "\n",
       "    .dataframe tbody tr th {\n",
       "        vertical-align: top;\n",
       "    }\n",
       "\n",
       "    .dataframe thead th {\n",
       "        text-align: right;\n",
       "    }\n",
       "</style>\n",
       "<table border=\"1\" class=\"dataframe\">\n",
       "  <thead>\n",
       "    <tr style=\"text-align: right;\">\n",
       "      <th></th>\n",
       "      <th>calls</th>\n",
       "      <th>minutes</th>\n",
       "      <th>messages</th>\n",
       "      <th>mb_used</th>\n",
       "      <th>is_ultra</th>\n",
       "    </tr>\n",
       "  </thead>\n",
       "  <tbody>\n",
       "    <tr>\n",
       "      <th>count</th>\n",
       "      <td>3214.000000</td>\n",
       "      <td>3214.000000</td>\n",
       "      <td>3214.000000</td>\n",
       "      <td>3214.000000</td>\n",
       "      <td>3214.000000</td>\n",
       "    </tr>\n",
       "    <tr>\n",
       "      <th>mean</th>\n",
       "      <td>63.038892</td>\n",
       "      <td>438.208787</td>\n",
       "      <td>38.281269</td>\n",
       "      <td>17207.673836</td>\n",
       "      <td>0.306472</td>\n",
       "    </tr>\n",
       "    <tr>\n",
       "      <th>std</th>\n",
       "      <td>33.236368</td>\n",
       "      <td>234.569872</td>\n",
       "      <td>36.148326</td>\n",
       "      <td>7570.968246</td>\n",
       "      <td>0.461100</td>\n",
       "    </tr>\n",
       "    <tr>\n",
       "      <th>min</th>\n",
       "      <td>0.000000</td>\n",
       "      <td>0.000000</td>\n",
       "      <td>0.000000</td>\n",
       "      <td>0.000000</td>\n",
       "      <td>0.000000</td>\n",
       "    </tr>\n",
       "    <tr>\n",
       "      <th>25%</th>\n",
       "      <td>40.000000</td>\n",
       "      <td>274.575000</td>\n",
       "      <td>9.000000</td>\n",
       "      <td>12491.902500</td>\n",
       "      <td>0.000000</td>\n",
       "    </tr>\n",
       "    <tr>\n",
       "      <th>50%</th>\n",
       "      <td>62.000000</td>\n",
       "      <td>430.600000</td>\n",
       "      <td>30.000000</td>\n",
       "      <td>16943.235000</td>\n",
       "      <td>0.000000</td>\n",
       "    </tr>\n",
       "    <tr>\n",
       "      <th>75%</th>\n",
       "      <td>82.000000</td>\n",
       "      <td>571.927500</td>\n",
       "      <td>57.000000</td>\n",
       "      <td>21424.700000</td>\n",
       "      <td>1.000000</td>\n",
       "    </tr>\n",
       "    <tr>\n",
       "      <th>max</th>\n",
       "      <td>244.000000</td>\n",
       "      <td>1632.060000</td>\n",
       "      <td>224.000000</td>\n",
       "      <td>49745.730000</td>\n",
       "      <td>1.000000</td>\n",
       "    </tr>\n",
       "  </tbody>\n",
       "</table>\n",
       "</div>"
      ],
      "text/plain": [
       "             calls      minutes     messages       mb_used     is_ultra\n",
       "count  3214.000000  3214.000000  3214.000000   3214.000000  3214.000000\n",
       "mean     63.038892   438.208787    38.281269  17207.673836     0.306472\n",
       "std      33.236368   234.569872    36.148326   7570.968246     0.461100\n",
       "min       0.000000     0.000000     0.000000      0.000000     0.000000\n",
       "25%      40.000000   274.575000     9.000000  12491.902500     0.000000\n",
       "50%      62.000000   430.600000    30.000000  16943.235000     0.000000\n",
       "75%      82.000000   571.927500    57.000000  21424.700000     1.000000\n",
       "max     244.000000  1632.060000   224.000000  49745.730000     1.000000"
      ]
     },
     "execution_count": 6,
     "metadata": {},
     "output_type": "execute_result"
    }
   ],
   "source": [
    "# estadistica descriptiva de cada columna como el promedio, mediana, desviación estándar, mínimo y máximo\n",
    "df.describe()"
   ]
  },
  {
   "cell_type": "code",
   "execution_count": 7,
   "metadata": {},
   "outputs": [
    {
     "data": {
      "text/plain": [
       "0    2229\n",
       "1     985\n",
       "Name: is_ultra, dtype: int64"
      ]
     },
     "execution_count": 7,
     "metadata": {},
     "output_type": "execute_result"
    }
   ],
   "source": [
    "#se trabaja con la columna \"is_ultra\" por lo que se hace un conteo de valores\n",
    "df[\"is_ultra\"].value_counts()"
   ]
  },
  {
   "cell_type": "code",
   "execution_count": 8,
   "metadata": {},
   "outputs": [],
   "source": [
    "#enterenamiento de modelo usando \"is_ultra\"\n",
    "X = df.drop([\"is_ultra\"], axis= 1)\n",
    "y= df[\"is_ultra\"]"
   ]
  },
  {
   "cell_type": "code",
   "execution_count": 9,
   "metadata": {},
   "outputs": [],
   "source": [
    "#validación\n",
    "#dividimos entre entrenamiento y temporalidad se deja el 70% de los datos para el entrenamiento, por lo que usaremos el 30% restante de los datos, que es ingual al 0.3\n",
    "#se toma \"random_state\" al 42 al ser el número más usado por los demás programadores\n",
    "X_train, X_temporalidad, y_train, y_temporalidad = train_test_split(X, y, test_size= 0.3 , random_state=42)"
   ]
  },
  {
   "cell_type": "code",
   "execution_count": 10,
   "metadata": {},
   "outputs": [],
   "source": [
    "#prueba de validación, en el paso anterior usamos el 30% de los datos , aqui se divide ese 30%  a al mitad test_size=0.5 que seria el 15% para la \"prueba\" y el 15% para la \"validación\"\n",
    "X_test , X_val, y_test, y_val = train_test_split(X_temporalidad, y_temporalidad, test_size=0.5, random_state= 42)"
   ]
  },
  {
   "cell_type": "code",
   "execution_count": 11,
   "metadata": {},
   "outputs": [
    {
     "name": "stdout",
     "output_type": "stream",
     "text": [
      "Tamaño del conjunto de entrenamiento: (2249, 4)\n",
      "Tamaño de conjunto de valdación: (483, 4)\n",
      "Tamaño del conjunto de prueba: (482, 4)\n"
     ]
    }
   ],
   "source": [
    "#se imprime la ferificación de la  división de datos\n",
    "print(\"Tamaño del conjunto de entrenamiento:\", X_train.shape)\n",
    "print(\"Tamaño de conjunto de valdación:\", X_val.shape)\n",
    "print(\"Tamaño del conjunto de prueba:\", X_test.shape)"
   ]
  },
  {
   "cell_type": "code",
   "execution_count": 12,
   "metadata": {
    "scrolled": true
   },
   "outputs": [
    {
     "name": "stdout",
     "output_type": "stream",
     "text": [
      "Distribución del conjunto de entrenamiento: 0    0.697643\n",
      "1    0.302357\n",
      "Name: is_ultra, dtype: float64\n",
      "Distribución del conjunto de validación: 0    0.660455\n",
      "1    0.339545\n",
      "Name: is_ultra, dtype: float64\n",
      "Distribución del conjunto de prueba: 0    0.707469\n",
      "1    0.292531\n",
      "Name: is_ultra, dtype: float64\n"
     ]
    }
   ],
   "source": [
    "#distribución de la variable\n",
    "print(\"Distribución del conjunto de entrenamiento:\", y_train.value_counts(normalize= True))\n",
    "print(\"Distribución del conjunto de validación:\", y_val.value_counts(normalize= True))\n",
    "print(\"Distribución del conjunto de prueba:\", y_test.value_counts(normalize= True))"
   ]
  },
  {
   "cell_type": "markdown",
   "metadata": {},
   "source": [
    "#### CONSTRUCUIÓN DE MODELO"
   ]
  },
  {
   "cell_type": "code",
   "execution_count": 13,
   "metadata": {},
   "outputs": [
    {
     "name": "stdout",
     "output_type": "stream",
     "text": [
      "Precisión del conjunto de validación: 0.722567287784679\n"
     ]
    }
   ],
   "source": [
    "#PRIMER MODELO DE REGRESIÓN LOGISTICA\n",
    "#creacion de modelo\n",
    "model = LogisticRegression(random_state= 42)\n",
    "\n",
    "#entrenamiento de modelo\n",
    "model.fit(X_train , y_train)\n",
    "\n",
    "#prediccion del conjunto de validación\n",
    "y_val_pred= model.predict(X_val)\n",
    "\n",
    "#calcular la precisión\n",
    "accuracy_val= accuracy_score(y_val, y_val_pred )\n",
    "print(\"Precisión del conjunto de validación:\", accuracy_val)"
   ]
  },
  {
   "cell_type": "code",
   "execution_count": 14,
   "metadata": {},
   "outputs": [
    {
     "name": "stdout",
     "output_type": "stream",
     "text": [
      "precisión del conjunto de prueba: 0.7634854771784232\n"
     ]
    }
   ],
   "source": [
    "#predición del cojunto de prueba\n",
    "y_test_pred= model.predict(X_test)\n",
    "#calcular al predición\n",
    "accuracy_test= accuracy_score(y_test, y_test_pred)\n",
    "\n",
    "#predición \n",
    "print(\"precisión del conjunto de prueba:\", accuracy_test)"
   ]
  },
  {
   "cell_type": "markdown",
   "metadata": {},
   "source": [
    "Regresión Logística muestra un buen desempeño, Sin embargo, no alcanza la precisión de Random Forest, por lo que se descarta."
   ]
  },
  {
   "cell_type": "code",
   "execution_count": 15,
   "metadata": {},
   "outputs": [
    {
     "name": "stdout",
     "output_type": "stream",
     "text": [
      "precisión del conjunto de validación de forest: 0.7784679089026915\n"
     ]
    }
   ],
   "source": [
    "#SEGUNDO MODELO RANDOM FOREST\n",
    "#Creacion de modelo\n",
    "model_rand_forest = RandomForestClassifier(n_estimators= 100, random_state=42 )\n",
    "\n",
    "#entrenamiento del modelo\n",
    "model_rand_forest.fit(X_train, y_train)\n",
    "\n",
    "#predecir validación\n",
    "y_val_pred_rand_forest= model_rand_forest.predict( X_val)\n",
    "\n",
    "#calcular validación\n",
    "accuracy_val_rand_forest= accuracy_score(y_val, y_val_pred_rand_forest)\n",
    "print(\"precisión del conjunto de validación de forest:\", accuracy_val_rand_forest)"
   ]
  },
  {
   "cell_type": "code",
   "execution_count": 16,
   "metadata": {},
   "outputs": [
    {
     "name": "stdout",
     "output_type": "stream",
     "text": [
      "precisión de conjunto de prueba de forest: 0.8278008298755186\n"
     ]
    }
   ],
   "source": [
    "#conjunto de prueba\n",
    "y_test_pred_rand_forest = model_rand_forest.predict(X_test)\n",
    "\n",
    "#calcular predicisión de prueba\n",
    "accuracy_test_rand_forest= accuracy_score(y_test, y_test_pred_rand_forest)\n",
    "print(\"precisión de conjunto de prueba de forest:\", accuracy_test_rand_forest)"
   ]
  },
  {
   "cell_type": "markdown",
   "metadata": {},
   "source": [
    "Random Forest tiene el mejor rendimiento tanto en validación como en prueba. muestra un buen equilibrio entre complejidad y capacidad de generalización, por lo que seguiremos trabajando con esté modelo."
   ]
  },
  {
   "cell_type": "code",
   "execution_count": 17,
   "metadata": {},
   "outputs": [
    {
     "name": "stdout",
     "output_type": "stream",
     "text": [
      "Precisión del conjunto de validación del Árbol de Decisión: 0.7142857142857143\n"
     ]
    }
   ],
   "source": [
    "#TERCER MODELO ÁRBOL DE DECISIÓN\n",
    "\n",
    "#cracion de modelo\n",
    "model_tree_class= DecisionTreeClassifier(random_state= 42)\n",
    "\n",
    "#entrenamiento\n",
    "model_tree_class.fit(X_train, y_train)\n",
    "\n",
    "#predicion de validación\n",
    "y_val_pred_tree_class= model_tree_class.predict(X_val)\n",
    "\n",
    "#calcular la validación\n",
    "accuracy_val_tree_class = accuracy_score(y_val, y_val_pred_tree_class )\n",
    "print(\"Precisión del conjunto de validación del Árbol de Decisión:\", accuracy_val_tree_class)"
   ]
  },
  {
   "cell_type": "code",
   "execution_count": 18,
   "metadata": {},
   "outputs": [
    {
     "name": "stdout",
     "output_type": "stream",
     "text": [
      "Precisión del conjunto de Árbol de Decisión: 0.7282157676348547\n"
     ]
    }
   ],
   "source": [
    "#calcular precisión de prueba\n",
    "y_test_pred_tree_class= model_tree_class.predict(X_test)\n",
    "\n",
    "#calcular predición de prueba\n",
    "accuracy_tree_class= accuracy_score(y_test, y_test_pred_tree_class)\n",
    "print(\"Precisión del conjunto de Árbol de Decisión:\", accuracy_tree_class)"
   ]
  },
  {
   "cell_type": "markdown",
   "metadata": {},
   "source": [
    "Árbol de Decisión tiene el rendimiento más bajo en este caso, no parecen capturar el problema tan efectivamente como Random Forest, por lo que se descarta esté modelo."
   ]
  },
  {
   "cell_type": "markdown",
   "metadata": {},
   "source": [
    "#### EVALUACIÓN DEL MODELO"
   ]
  },
  {
   "cell_type": "code",
   "execution_count": 19,
   "metadata": {},
   "outputs": [
    {
     "name": "stdout",
     "output_type": "stream",
     "text": [
      "Fitting 5 folds for each of 36 candidates, totalling 180 fits\n",
      "Mejores parámetros: {'max_depth': 10, 'min_samples_leaf': 2, 'min_samples_split': 2, 'n_estimators': 50}\n"
     ]
    }
   ],
   "source": [
    "# MODELO RANDOM FOREST al ser mejor modelo, seguiremos trabajando con el implementando más ajustes.\n",
    "#Creacion de modelo\n",
    "model_rf = RandomForestClassifier(random_state=42)\n",
    "\n",
    "#hiperparametros\n",
    "param_grid = {\n",
    "    #número de arboles \n",
    "    \"n_estimators\": [50, 100, 150],\n",
    "    \n",
    "    #profundida maxima del árbol\n",
    "    \"max_depth\": [5, 10, None],\n",
    "    \n",
    "    #muestra minima requeridas para dividir\n",
    "    \"min_samples_split\": [2, 5],\n",
    "    \n",
    "    #muesta minima requerida en una hojas\n",
    "    \"min_samples_leaf\": [1,2]\n",
    "    }\n",
    "\n",
    "#configuración de GridSearchCV\n",
    "grid_search = GridSearchCV(estimator=model_rf, param_grid=param_grid, cv=5, scoring='accuracy', verbose=1, n_jobs=-1)\n",
    "\n",
    "#busqueda de conbinación de hiperparametros\n",
    "grid_search.fit(X_train, y_train)\n",
    "\n",
    "#  parámetros y modelo\n",
    "print(\"Mejores parámetros:\", grid_search.best_params_)\n",
    "best_model = grid_search.best_estimator_\n",
    "\n"
   ]
  },
  {
   "cell_type": "markdown",
   "metadata": {},
   "source": [
    "interpretación de losdatos:\n",
    "\n",
    "5 folds: configuración de hiperparámetros fue entrenada y validada 5 veces.\n",
    "    \n",
    "36 candidates: Se evaluaron 36 combinaciones diferentes de hiperparámetros.\n",
    "    \n",
    "180 fits: 180 ajustes de modelos diferentes.\n",
    "    \n",
    "max_depth: 10: La profundidad máxima de los árboles es 10 niveles.\n",
    "        \n",
    "min_samples_leaf: Cada hoja debe tener al menos 2 muestras.\n",
    "    \n",
    "min_samples_split: 2 - Se requieren al menos 2 muestras para dividir un nodo interno.\n",
    "\n",
    "n_estimators: 50 - El bosque está compuesto por 50 árboles."
   ]
  },
  {
   "cell_type": "code",
   "execution_count": 20,
   "metadata": {},
   "outputs": [
    {
     "name": "stdout",
     "output_type": "stream",
     "text": [
      "Precisión en el conjunto de prueba: 0.8278008298755186\n"
     ]
    }
   ],
   "source": [
    "# evaluar el conjunto de prueba\n",
    "y_test_pred = best_model.predict(X_test)\n",
    "accuracy_test = accuracy_score(y_test, y_test_pred)\n",
    "print(\"Precisión en el conjunto de prueba:\", accuracy_test)"
   ]
  },
  {
   "cell_type": "markdown",
   "metadata": {},
   "source": [
    "El modelo es capaz de predecir correctamente el 82.78% de las instancias en el conjunto de prueba."
   ]
  },
  {
   "cell_type": "code",
   "execution_count": 21,
   "metadata": {},
   "outputs": [
    {
     "name": "stdout",
     "output_type": "stream",
     "text": [
      "Presición de cada fold: [0.81677019 0.8136646  0.76397516 0.80745342 0.8317757  0.80685358\n",
      " 0.80373832 0.81619938 0.81931464 0.82554517]\n",
      "Media de la presición: 0.8105290145314527\n",
      "Desviación estándar de la presición: 0.01752533731988047\n"
     ]
    }
   ],
   "source": [
    "#validación cruzada\n",
    "model= RandomForestClassifier(n_estimators= 100, max_depth= 10., random_state= 42)\n",
    "\n",
    "#Realizar validación\n",
    "scores= cross_val_score(model, X, y, cv=10, scoring= \"accuracy\")\n",
    "\n",
    "#imprimir validación cruzada\n",
    "print(\"Presición de cada fold:\", scores)\n",
    "print(\"Media de la presición:\", scores.mean())\n",
    "print(\"Desviación estándar de la presición:\", scores.std())\n"
   ]
  },
  {
   "cell_type": "markdown",
   "metadata": {},
   "source": [
    "Precisión de cada fold: Esto muestra la precisión obtenida en cada una de las 10 particiones del conjunto de datos.\n",
    "\n",
    "Media de la precisión: 0.8105 aproximadamente, esto indica que en promedio, el modelo tiene un 81.05% de precisión.\n",
    "\n",
    "Desviación estándar de la precisión: 0.0175 aproximadamente, es relativamente bajo, sugiriendo que el modelo es estable y consistente a través de diferentes conjuntos de datos."
   ]
  },
  {
   "cell_type": "code",
   "execution_count": 22,
   "metadata": {
    "scrolled": true
   },
   "outputs": [
    {
     "data": {
      "image/png": "[encoded data removed]",
      "text/plain": [
       "<Figure size 640x480 with 1 Axes>"
      ]
     },
     "metadata": {},
     "output_type": "display_data"
    }
   ],
   "source": [
    "#curva ROC\n",
    "#  entrenar modelo\n",
    "model = RandomForestClassifier(n_estimators=100, max_depth=10, random_state=42)\n",
    "model.fit(X_train, y_train)\n",
    "\n",
    "# clase positiva\n",
    "y_scores = model.predict_proba(X_test)[:, 1]\n",
    "\n",
    "# Curva de ROC\n",
    "fpr, tpr, umbrales = roc_curve(y_test, y_scores)\n",
    "roc_auc = auc(fpr, tpr)\n",
    "\n",
    "# Gráfica de curva de ROC\n",
    "plt.figure()\n",
    "plt.plot(fpr, tpr, color='darkorange', lw=2, label='Curva ROC (área = %0.2f)' % roc_auc)\n",
    "plt.plot([0, 1], [0, 1], color=\"navy\", lw=2, linestyle=\"--\")\n",
    "plt.xlim([0.0, 1.0])\n",
    "plt.ylim([0.0, 1.05])\n",
    "plt.xlabel(\"Tasa de Falsos Positivos\")\n",
    "plt.ylabel(\"Tasa de Verdaderos Positivos\")\n",
    "plt.title(\"Características de Operación del Receptor\")\n",
    "plt.legend(loc=\"lower right\") \n",
    "plt.show()\n"
   ]
  },
  {
   "cell_type": "markdown",
   "metadata": {},
   "source": [
    "Se utiliza la curva ROC para evaluar un modelo de clasificación binaria.\n",
    "\n",
    "La curva ROC tiene una buena separación entre las tasas de verdaderos y falsos positivos, con un área bajo la curva (AUC) de 0.84, lo cual indica un buen rendimiento del modelo en diferenciar entre las clases."
   ]
  },
  {
   "cell_type": "markdown",
   "metadata": {},
   "source": [
    "#### ANALISIS DE IMPORTANCIA DE CARACTERISTICAS"
   ]
  },
  {
   "cell_type": "code",
   "execution_count": 23,
   "metadata": {},
   "outputs": [
    {
     "data": {
      "image/png": "[encoded data removed]",
      "text/plain": [
       "<Figure size 1200x600 with 1 Axes>"
      ]
     },
     "metadata": {},
     "output_type": "display_data"
    }
   ],
   "source": [
    "# nombres de las características que tiene mas peso en el modelo\n",
    "feature_labels = ['Calls', 'Minutes', 'Messages', 'MB Used', 'Plan Type']\n",
    "\n",
    "# modelo de RandomForest ya entrenado\n",
    "importances = best_model.feature_importances_\n",
    "indices = np.argsort(importances)[::-1]  # ordenar importancias\n",
    "\n",
    "# crear el gráfico\n",
    "plt.figure(figsize=(12, 6))\n",
    "plt.title('Importancia de las Características')\n",
    "plt.bar(range(len(importances)), importances[indices], color='skyblue', align='center')\n",
    "plt.xticks(range(len(importances)), [feature_labels[i] for i in indices], rotation=90)\n",
    "plt.xlabel('Importancia')\n",
    "plt.ylabel('Características')\n",
    "plt.tight_layout()\n",
    "plt.show()\n"
   ]
  },
  {
   "cell_type": "markdown",
   "metadata": {},
   "source": [
    "MB Used: Esta característica tiene la mayor importancia en el modelo. Esto sugiere que el uso de datos móviles determina si un usuario elige el plan Ultra o Smart.\n",
    "\n",
    "Minutes: La duración de las llamadas también es significativo, aunque tiene un poco menos de importancia que el uso de MB.\n",
    "\n",
    "Calls: El número de llamadas parece ser menos importante que los minutos y el uso de MB.\n",
    "\n",
    "Messages: Tiene la menor importancia de las características mostradas. Esto puede indicar que la cantidad de mensajes no influye tanto en la elección del plan como los otros factores."
   ]
  },
  {
   "cell_type": "markdown",
   "metadata": {},
   "source": [
    "#### VISUALIZACIÓN DE MODELO"
   ]
  },
  {
   "cell_type": "code",
   "execution_count": 24,
   "metadata": {},
   "outputs": [
    {
     "data": {
      "image/png": "[encoded data removed]",
      "text/plain": [
       "<Figure size 2000x1000 with 1 Axes>"
      ]
     },
     "metadata": {},
     "output_type": "display_data"
    }
   ],
   "source": [
    "#'best_model' es  RandomForest entrenado\n",
    "tree_in_forest = best_model.estimators_[0]  # Selección del primer árbol\n",
    "\n",
    "#tamaño del gráfico\n",
    "plt.figure(figsize=(20, 10))  \n",
    "plot_tree(tree_in_forest, filled=True, feature_names=['Calls', 'Minutes', 'Messages', 'MB Used'], \n",
    "          class_names=['Smart', 'Ultra'],  \n",
    "          rounded=True, proportion=False, \n",
    "          precision=2)\n",
    "plt.title('Visualización de un Árbol Individual en RandomForest')\n",
    "plt.show()\n"
   ]
  },
  {
   "cell_type": "markdown",
   "metadata": {},
   "source": [
    "#### PRUEBA DE CORDURA"
   ]
  },
  {
   "cell_type": "code",
   "execution_count": 25,
   "metadata": {},
   "outputs": [
    {
     "name": "stdout",
     "output_type": "stream",
     "text": [
      "Exactitud de modelo Dummy: 0.7074688796680498\n"
     ]
    }
   ],
   "source": [
    "#creación de modelo Dummy\n",
    "dummy_model= DummyClassifier(strategy= \"most_frequent\", random_state= 42)\n",
    "\n",
    "#entrenamineto de modelo\n",
    "dummy_model.fit(X_train, y_train)\n",
    "\n",
    "#predictión\n",
    "dummy_pred= dummy_model.predict(X_test)\n",
    "\n",
    "#exactitud\n",
    "dummy_accuracy= accuracy_score(y_test, dummy_pred )\n",
    "print(\"Exactitud de modelo Dummy:\",dummy_accuracy )"
   ]
  },
  {
   "cell_type": "markdown",
   "metadata": {},
   "source": [
    "Modelo Random Forest:\n",
    "\n",
    "    Conjunto de validación: 0.7785\n",
    "    Conjunto de prueba: 0.8278\n",
    "\n",
    "Modelo Dummy:\n",
    "\n",
    "    Exactitud: 0.7075\n",
    " \n",
    "El modelo Random Forest funciona mejor que el modelo Dummy, alcanzando una exactitud del 82.78%, esta diferencia sugiere que el modelo RandomForest está funcionando adecuadamente y supera el umbral de exactitud del 75% establecido para el proyecto"
   ]
  },
  {
   "cell_type": "markdown",
   "metadata": {},
   "source": [
    "# CONCLUSIÓN\n",
    "\n",
    "Se desarrolló el modelo Random Forest para la compañía Megaline, alcanzando una exactitud de 82.78% en el conjunto de prueba y 77.85% en el conjunto de validación, superando el umbral establecido por la compañía del 75%.\n",
    "\n",
    "MB Used: Nos permite comprender que los usuarios muestran una mayor importancia en los datos móviles, lo cual es clave en la elección entre los planes Ultra y Smart. Esto puede indicar que los usuarios con alto consumo de datos tienden a preferir el plan Ultra.\n",
    "\n",
    "Minutos: Refleja la cantidad de tiempo que los usuarios pasan hablando, este indicador también influye en su elección de plan.\n",
    "\n",
    "Por otro lado, las Llamadas y Mensajes tienen un peso menor en comparación con el uso de datos y los minutos a la hora de determinar la preferencia de plan.\n",
    "\n",
    "    Recomendaciones basadas en los datos encontrados:\n",
    "\n",
    "Promociones Basadas en Datos: Utilizar los datos para lanzar promociones dirigidas durante eventos especiales. Por ejemplo, ajustar los límites de datos o la cantidad de minutos incluidos podría hacer que un plan sea más atractivo para segmentos específicos de usuarios.\n",
    "\n",
    "Megaline podría considerar mejorar sus servicios de datos o ajustar los precios de los planes para capturar una mayor parte del mercado, mediante la optimización de los recursos y asignación de red, asegurando una experiencia de calidad para los clientes, aumentando la retención de usuarios y de esa forma, reducir la rotación o cancelación de planes.\n"
   ]
  },
  {
   "cell_type": "code",
   "execution_count": null,
   "metadata": {},
   "outputs": [],
   "source": []
  }
 ],
 "metadata": {
  "ExecuteTimeLog": [
   {
    "duration": 470,
    "start_time": "2024-08-07T06:56:49.922Z"
   },
   {
    "duration": 1042,
    "start_time": "2024-08-07T06:57:18.016Z"
   },
   {
    "duration": 118,
    "start_time": "2024-08-07T06:59:12.676Z"
   },
   {
    "duration": 16,
    "start_time": "2024-08-07T06:59:16.836Z"
   },
   {
    "duration": 30,
    "start_time": "2024-08-07T06:59:27.779Z"
   },
   {
    "duration": 306,
    "start_time": "2024-08-08T02:43:37.068Z"
   },
   {
    "duration": 21,
    "start_time": "2024-08-08T02:43:45.411Z"
   },
   {
    "duration": 478,
    "start_time": "2024-08-08T02:43:48.915Z"
   },
   {
    "duration": 29,
    "start_time": "2024-08-08T02:43:49.397Z"
   },
   {
    "duration": 24,
    "start_time": "2024-08-08T02:43:55.107Z"
   },
   {
    "duration": 16,
    "start_time": "2024-08-08T02:44:51.157Z"
   },
   {
    "duration": 17,
    "start_time": "2024-08-08T02:45:28.777Z"
   },
   {
    "duration": 31,
    "start_time": "2024-08-08T02:45:50.439Z"
   },
   {
    "duration": 54,
    "start_time": "2024-08-08T02:46:25.255Z"
   },
   {
    "duration": 20,
    "start_time": "2024-08-08T02:46:40.334Z"
   },
   {
    "duration": 11,
    "start_time": "2024-08-08T02:53:19.186Z"
   },
   {
    "duration": 23,
    "start_time": "2024-08-08T02:53:40.883Z"
   },
   {
    "duration": 29,
    "start_time": "2024-08-08T02:53:49.481Z"
   },
   {
    "duration": 10,
    "start_time": "2024-08-08T02:54:07.443Z"
   },
   {
    "duration": 6,
    "start_time": "2024-08-08T02:54:30.404Z"
   },
   {
    "duration": 23,
    "start_time": "2024-08-08T02:54:37.525Z"
   },
   {
    "duration": 22,
    "start_time": "2024-08-08T02:54:44.618Z"
   },
   {
    "duration": 23,
    "start_time": "2024-08-08T02:54:56.502Z"
   },
   {
    "duration": 8,
    "start_time": "2024-08-08T02:55:03.110Z"
   },
   {
    "duration": 4,
    "start_time": "2024-08-08T04:05:23.122Z"
   },
   {
    "duration": 23,
    "start_time": "2024-08-08T04:09:16.984Z"
   },
   {
    "duration": 764,
    "start_time": "2024-08-08T04:09:27.744Z"
   },
   {
    "duration": 8,
    "start_time": "2024-08-08T04:09:31.032Z"
   },
   {
    "duration": 6,
    "start_time": "2024-08-08T04:30:16.009Z"
   },
   {
    "duration": 3,
    "start_time": "2024-08-08T04:30:32.169Z"
   },
   {
    "duration": 17,
    "start_time": "2024-08-08T05:27:14.472Z"
   },
   {
    "duration": 9,
    "start_time": "2024-08-08T05:33:42.958Z"
   },
   {
    "duration": 5,
    "start_time": "2024-08-08T05:33:44.983Z"
   },
   {
    "duration": 7,
    "start_time": "2024-08-08T05:39:28.155Z"
   },
   {
    "duration": 76,
    "start_time": "2024-08-08T05:39:38.035Z"
   },
   {
    "duration": 26,
    "start_time": "2024-08-08T05:40:10.531Z"
   },
   {
    "duration": 49,
    "start_time": "2024-08-08T05:42:22.346Z"
   },
   {
    "duration": 48,
    "start_time": "2024-08-08T05:43:47.384Z"
   },
   {
    "duration": 52,
    "start_time": "2024-08-08T05:46:40.143Z"
   },
   {
    "duration": 29,
    "start_time": "2024-08-08T05:49:56.275Z"
   },
   {
    "duration": 26,
    "start_time": "2024-08-08T05:50:09.603Z"
   },
   {
    "duration": 7,
    "start_time": "2024-08-08T05:50:19.987Z"
   },
   {
    "duration": 10,
    "start_time": "2024-08-08T05:51:24.822Z"
   },
   {
    "duration": 49,
    "start_time": "2024-08-08T05:55:03.659Z"
   },
   {
    "duration": 34,
    "start_time": "2024-08-08T06:01:11.397Z"
   },
   {
    "duration": 592,
    "start_time": "2024-08-08T06:03:56.137Z"
   },
   {
    "duration": 623,
    "start_time": "2024-08-08T06:07:10.774Z"
   },
   {
    "duration": 8,
    "start_time": "2024-08-08T06:08:10.323Z"
   },
   {
    "duration": 621,
    "start_time": "2024-08-08T06:08:19.793Z"
   },
   {
    "duration": 22,
    "start_time": "2024-08-08T06:09:49.075Z"
   },
   {
    "duration": 34,
    "start_time": "2024-08-08T06:11:49.845Z"
   },
   {
    "duration": 5,
    "start_time": "2024-08-08T06:19:58.596Z"
   },
   {
    "duration": 25,
    "start_time": "2024-08-08T06:27:20.670Z"
   },
   {
    "duration": 29,
    "start_time": "2024-08-08T06:39:26.145Z"
   },
   {
    "duration": 10,
    "start_time": "2024-08-08T06:39:41.778Z"
   },
   {
    "duration": 9,
    "start_time": "2024-08-08T06:45:08.192Z"
   },
   {
    "duration": 7,
    "start_time": "2024-08-08T07:18:12.113Z"
   },
   {
    "duration": 8,
    "start_time": "2024-08-08T07:18:22.797Z"
   },
   {
    "duration": 639,
    "start_time": "2024-08-08T07:18:49.839Z"
   },
   {
    "duration": 7,
    "start_time": "2024-08-08T08:02:46.452Z"
   },
   {
    "duration": 29,
    "start_time": "2024-08-08T08:03:04.292Z"
   },
   {
    "duration": 27,
    "start_time": "2024-08-08T08:03:20.821Z"
   },
   {
    "duration": 27,
    "start_time": "2024-08-08T08:03:47.365Z"
   },
   {
    "duration": 30,
    "start_time": "2024-08-08T08:04:07.924Z"
   },
   {
    "duration": 26,
    "start_time": "2024-08-08T08:04:26.678Z"
   },
   {
    "duration": 28,
    "start_time": "2024-08-08T08:04:56.903Z"
   },
   {
    "duration": 5,
    "start_time": "2024-08-08T08:05:04.981Z"
   },
   {
    "duration": 110,
    "start_time": "2024-08-08T08:05:09.031Z"
   },
   {
    "duration": 38,
    "start_time": "2024-08-08T08:06:03.385Z"
   },
   {
    "duration": 39,
    "start_time": "2024-08-08T08:06:11.160Z"
   },
   {
    "duration": 8,
    "start_time": "2024-08-08T08:06:35.194Z"
   },
   {
    "duration": 70763,
    "start_time": "2024-08-08T08:12:59.319Z"
   },
   {
    "duration": 16,
    "start_time": "2024-08-08T08:14:10.085Z"
   },
   {
    "duration": 616,
    "start_time": "2024-08-08T08:26:12.200Z"
   },
   {
    "duration": 3812,
    "start_time": "2024-08-08T08:26:21.929Z"
   },
   {
    "duration": 829,
    "start_time": "2024-08-08T08:26:26.760Z"
   },
   {
    "duration": 70688,
    "start_time": "2024-08-08T08:37:42.826Z"
   },
   {
    "duration": 393,
    "start_time": "2024-08-08T09:02:05.775Z"
   },
   {
    "duration": 382,
    "start_time": "2024-08-08T09:06:42.871Z"
   },
   {
    "duration": 5,
    "start_time": "2024-08-08T09:18:04.360Z"
   },
   {
    "duration": 12775,
    "start_time": "2024-08-08T09:20:27.772Z"
   },
   {
    "duration": 14632,
    "start_time": "2024-08-08T09:23:33.650Z"
   },
   {
    "duration": 8,
    "start_time": "2024-08-08T09:31:01.888Z"
   },
   {
    "duration": 6,
    "start_time": "2024-08-08T09:31:38.206Z"
   },
   {
    "duration": 281,
    "start_time": "2024-08-08T09:32:44.991Z"
   },
   {
    "duration": 12801,
    "start_time": "2024-08-08T09:33:57.778Z"
   },
   {
    "duration": 6,
    "start_time": "2024-08-08T09:55:08.963Z"
   },
   {
    "duration": 32,
    "start_time": "2024-08-08T10:00:07.210Z"
   },
   {
    "duration": 5569,
    "start_time": "2024-08-08T10:01:23.307Z"
   },
   {
    "duration": 5523,
    "start_time": "2024-08-08T10:01:40.620Z"
   },
   {
    "duration": 5357,
    "start_time": "2024-08-09T02:53:06.097Z"
   },
   {
    "duration": 53,
    "start_time": "2024-08-09T02:53:11.458Z"
   },
   {
    "duration": 31,
    "start_time": "2024-08-09T02:53:11.515Z"
   },
   {
    "duration": 15,
    "start_time": "2024-08-09T02:53:11.551Z"
   },
   {
    "duration": 24,
    "start_time": "2024-08-09T02:53:11.570Z"
   },
   {
    "duration": 39,
    "start_time": "2024-08-09T02:53:11.633Z"
   },
   {
    "duration": 10,
    "start_time": "2024-08-09T02:53:11.675Z"
   },
   {
    "duration": 8,
    "start_time": "2024-08-09T02:53:11.689Z"
   },
   {
    "duration": 38,
    "start_time": "2024-08-09T02:53:11.700Z"
   },
   {
    "duration": 6,
    "start_time": "2024-08-09T02:53:11.745Z"
   },
   {
    "duration": 6,
    "start_time": "2024-08-09T02:53:11.754Z"
   },
   {
    "duration": 11,
    "start_time": "2024-08-09T02:53:11.763Z"
   },
   {
    "duration": 94,
    "start_time": "2024-08-09T02:53:11.777Z"
   },
   {
    "duration": 10,
    "start_time": "2024-08-09T02:53:11.874Z"
   },
   {
    "duration": 683,
    "start_time": "2024-08-09T02:53:11.886Z"
   },
   {
    "duration": 28,
    "start_time": "2024-08-09T02:53:12.573Z"
   },
   {
    "duration": 46,
    "start_time": "2024-08-09T02:53:12.604Z"
   },
   {
    "duration": 9,
    "start_time": "2024-08-09T02:53:12.654Z"
   },
   {
    "duration": 73715,
    "start_time": "2024-08-09T02:53:12.666Z"
   },
   {
    "duration": 12,
    "start_time": "2024-08-09T02:54:26.384Z"
   },
   {
    "duration": 0,
    "start_time": "2024-08-09T02:54:26.398Z"
   },
   {
    "duration": 0,
    "start_time": "2024-08-09T02:54:26.401Z"
   },
   {
    "duration": 0,
    "start_time": "2024-08-09T02:54:26.402Z"
   },
   {
    "duration": 0,
    "start_time": "2024-08-09T02:54:26.404Z"
   },
   {
    "duration": 0,
    "start_time": "2024-08-09T02:54:26.407Z"
   },
   {
    "duration": 0,
    "start_time": "2024-08-09T02:54:26.433Z"
   },
   {
    "duration": 14,
    "start_time": "2024-08-09T02:57:27.428Z"
   },
   {
    "duration": 5758,
    "start_time": "2024-08-09T02:57:29.169Z"
   },
   {
    "duration": 5,
    "start_time": "2024-08-09T02:57:34.933Z"
   },
   {
    "duration": 6,
    "start_time": "2024-08-09T02:57:34.941Z"
   },
   {
    "duration": 0,
    "start_time": "2024-08-09T02:57:34.951Z"
   },
   {
    "duration": 12800,
    "start_time": "2024-08-09T02:57:35.417Z"
   },
   {
    "duration": 370,
    "start_time": "2024-08-09T02:58:12.837Z"
   },
   {
    "duration": 12728,
    "start_time": "2024-08-09T02:58:18.134Z"
   },
   {
    "duration": 6,
    "start_time": "2024-08-09T03:04:12.124Z"
   },
   {
    "duration": 7,
    "start_time": "2024-08-09T03:21:41.946Z"
   },
   {
    "duration": 679,
    "start_time": "2024-08-09T03:21:55.596Z"
   },
   {
    "duration": 6,
    "start_time": "2024-08-09T03:22:19.331Z"
   },
   {
    "duration": 61,
    "start_time": "2024-08-09T03:22:26.979Z"
   },
   {
    "duration": 64,
    "start_time": "2024-08-09T03:23:10.385Z"
   },
   {
    "duration": 62,
    "start_time": "2024-08-09T03:24:18.235Z"
   },
   {
    "duration": 64,
    "start_time": "2024-08-09T03:25:47.060Z"
   },
   {
    "duration": 66,
    "start_time": "2024-08-09T03:29:06.839Z"
   },
   {
    "duration": 65,
    "start_time": "2024-08-09T03:29:23.274Z"
   },
   {
    "duration": 6,
    "start_time": "2024-08-09T03:29:44.949Z"
   },
   {
    "duration": 63,
    "start_time": "2024-08-09T03:29:55.539Z"
   },
   {
    "duration": 1517,
    "start_time": "2024-08-09T03:31:02.392Z"
   },
   {
    "duration": 754,
    "start_time": "2024-08-09T03:31:15.790Z"
   },
   {
    "duration": 687,
    "start_time": "2024-08-09T03:32:52.110Z"
   },
   {
    "duration": 856,
    "start_time": "2024-08-09T03:33:47.634Z"
   },
   {
    "duration": 681,
    "start_time": "2024-08-09T03:34:03.816Z"
   },
   {
    "duration": 764,
    "start_time": "2024-08-09T03:34:12.121Z"
   },
   {
    "duration": 699,
    "start_time": "2024-08-09T03:34:16.584Z"
   },
   {
    "duration": 684,
    "start_time": "2024-08-09T03:34:32.213Z"
   },
   {
    "duration": 224,
    "start_time": "2024-08-09T03:34:38.791Z"
   },
   {
    "duration": 235,
    "start_time": "2024-08-09T03:35:06.470Z"
   },
   {
    "duration": 1386,
    "start_time": "2024-08-09T03:35:14.343Z"
   },
   {
    "duration": 38,
    "start_time": "2024-08-09T03:35:15.732Z"
   },
   {
    "duration": 19,
    "start_time": "2024-08-09T03:35:15.773Z"
   },
   {
    "duration": 37,
    "start_time": "2024-08-09T03:35:15.795Z"
   },
   {
    "duration": 20,
    "start_time": "2024-08-09T03:35:15.838Z"
   },
   {
    "duration": 30,
    "start_time": "2024-08-09T03:35:15.861Z"
   },
   {
    "duration": 40,
    "start_time": "2024-08-09T03:35:15.894Z"
   },
   {
    "duration": 5,
    "start_time": "2024-08-09T03:35:15.937Z"
   },
   {
    "duration": 7,
    "start_time": "2024-08-09T03:35:15.946Z"
   },
   {
    "duration": 7,
    "start_time": "2024-08-09T03:35:15.956Z"
   },
   {
    "duration": 5,
    "start_time": "2024-08-09T03:35:15.967Z"
   },
   {
    "duration": 60,
    "start_time": "2024-08-09T03:35:15.976Z"
   },
   {
    "duration": 52,
    "start_time": "2024-08-09T03:35:16.040Z"
   },
   {
    "duration": 8,
    "start_time": "2024-08-09T03:35:16.097Z"
   },
   {
    "duration": 618,
    "start_time": "2024-08-09T03:35:16.134Z"
   },
   {
    "duration": 25,
    "start_time": "2024-08-09T03:35:16.755Z"
   },
   {
    "duration": 50,
    "start_time": "2024-08-09T03:35:16.784Z"
   },
   {
    "duration": 8,
    "start_time": "2024-08-09T03:35:16.837Z"
   },
   {
    "duration": 71100,
    "start_time": "2024-08-09T03:35:16.848Z"
   },
   {
    "duration": 16,
    "start_time": "2024-08-09T03:36:27.950Z"
   },
   {
    "duration": 5603,
    "start_time": "2024-08-09T03:36:27.969Z"
   },
   {
    "duration": 608,
    "start_time": "2024-08-09T03:36:33.575Z"
   },
   {
    "duration": 0,
    "start_time": "2024-08-09T03:36:34.186Z"
   },
   {
    "duration": 0,
    "start_time": "2024-08-09T03:36:34.189Z"
   },
   {
    "duration": 62,
    "start_time": "2024-08-09T03:41:21.681Z"
   },
   {
    "duration": 6,
    "start_time": "2024-08-09T03:41:47.147Z"
   },
   {
    "duration": 59,
    "start_time": "2024-08-09T03:41:54.458Z"
   },
   {
    "duration": 84,
    "start_time": "2024-08-09T03:42:30.152Z"
   },
   {
    "duration": 63,
    "start_time": "2024-08-09T03:42:50.229Z"
   },
   {
    "duration": 64,
    "start_time": "2024-08-09T03:43:14.504Z"
   },
   {
    "duration": 1503,
    "start_time": "2024-08-09T03:43:58.674Z"
   },
   {
    "duration": 680,
    "start_time": "2024-08-09T03:44:16.332Z"
   },
   {
    "duration": 1389,
    "start_time": "2024-08-09T03:44:30.165Z"
   },
   {
    "duration": 41,
    "start_time": "2024-08-09T03:44:31.558Z"
   },
   {
    "duration": 42,
    "start_time": "2024-08-09T03:44:31.602Z"
   },
   {
    "duration": 14,
    "start_time": "2024-08-09T03:44:31.647Z"
   },
   {
    "duration": 20,
    "start_time": "2024-08-09T03:44:31.663Z"
   },
   {
    "duration": 68,
    "start_time": "2024-08-09T03:44:31.686Z"
   },
   {
    "duration": 7,
    "start_time": "2024-08-09T03:44:31.757Z"
   },
   {
    "duration": 4,
    "start_time": "2024-08-09T03:44:31.769Z"
   },
   {
    "duration": 8,
    "start_time": "2024-08-09T03:44:31.776Z"
   },
   {
    "duration": 44,
    "start_time": "2024-08-09T03:44:31.789Z"
   },
   {
    "duration": 6,
    "start_time": "2024-08-09T03:44:31.837Z"
   },
   {
    "duration": 11,
    "start_time": "2024-08-09T03:44:31.847Z"
   },
   {
    "duration": 84,
    "start_time": "2024-08-09T03:44:31.861Z"
   },
   {
    "duration": 8,
    "start_time": "2024-08-09T03:44:31.949Z"
   },
   {
    "duration": 649,
    "start_time": "2024-08-09T03:44:31.960Z"
   },
   {
    "duration": 37,
    "start_time": "2024-08-09T03:44:32.613Z"
   },
   {
    "duration": 26,
    "start_time": "2024-08-09T03:44:32.657Z"
   },
   {
    "duration": 8,
    "start_time": "2024-08-09T03:44:32.686Z"
   },
   {
    "duration": 71310,
    "start_time": "2024-08-09T03:44:32.697Z"
   },
   {
    "duration": 27,
    "start_time": "2024-08-09T03:45:44.010Z"
   },
   {
    "duration": 5787,
    "start_time": "2024-08-09T03:45:44.040Z"
   },
   {
    "duration": 736,
    "start_time": "2024-08-09T03:45:49.833Z"
   },
   {
    "duration": 240,
    "start_time": "2024-08-09T03:45:50.573Z"
   },
   {
    "duration": 369,
    "start_time": "2024-08-09T03:45:50.816Z"
   },
   {
    "duration": 13192,
    "start_time": "2024-08-09T03:45:51.189Z"
   },
   {
    "duration": 673,
    "start_time": "2024-08-09T03:46:17.569Z"
   },
   {
    "duration": 1377,
    "start_time": "2024-08-09T03:50:47.583Z"
   },
   {
    "duration": 38,
    "start_time": "2024-08-09T03:50:48.964Z"
   },
   {
    "duration": 34,
    "start_time": "2024-08-09T03:50:49.006Z"
   },
   {
    "duration": 12,
    "start_time": "2024-08-09T03:50:49.044Z"
   },
   {
    "duration": 20,
    "start_time": "2024-08-09T03:50:49.060Z"
   },
   {
    "duration": 66,
    "start_time": "2024-08-09T03:50:49.083Z"
   },
   {
    "duration": 9,
    "start_time": "2024-08-09T03:50:49.152Z"
   },
   {
    "duration": 4,
    "start_time": "2024-08-09T03:50:49.164Z"
   },
   {
    "duration": 9,
    "start_time": "2024-08-09T03:50:49.172Z"
   },
   {
    "duration": 7,
    "start_time": "2024-08-09T03:50:49.184Z"
   },
   {
    "duration": 6,
    "start_time": "2024-08-09T03:50:49.233Z"
   },
   {
    "duration": 12,
    "start_time": "2024-08-09T03:50:49.242Z"
   },
   {
    "duration": 78,
    "start_time": "2024-08-09T03:50:49.257Z"
   },
   {
    "duration": 7,
    "start_time": "2024-08-09T03:50:49.341Z"
   },
   {
    "duration": 645,
    "start_time": "2024-08-09T03:50:49.352Z"
   },
   {
    "duration": 37,
    "start_time": "2024-08-09T03:50:50.000Z"
   },
   {
    "duration": 25,
    "start_time": "2024-08-09T03:50:50.041Z"
   },
   {
    "duration": 8,
    "start_time": "2024-08-09T03:50:50.069Z"
   },
   {
    "duration": 71542,
    "start_time": "2024-08-09T03:50:50.080Z"
   },
   {
    "duration": 24,
    "start_time": "2024-08-09T03:52:01.625Z"
   },
   {
    "duration": 5605,
    "start_time": "2024-08-09T03:52:01.652Z"
   },
   {
    "duration": 696,
    "start_time": "2024-08-09T03:52:07.260Z"
   },
   {
    "duration": 230,
    "start_time": "2024-08-09T03:52:07.959Z"
   },
   {
    "duration": 389,
    "start_time": "2024-08-09T03:52:08.193Z"
   },
   {
    "duration": 12648,
    "start_time": "2024-08-09T03:52:08.585Z"
   },
   {
    "duration": 6,
    "start_time": "2024-08-09T05:15:49.530Z"
   },
   {
    "duration": 7,
    "start_time": "2024-08-09T05:25:04.970Z"
   },
   {
    "duration": 1364,
    "start_time": "2024-08-09T08:15:34.087Z"
   },
   {
    "duration": 37,
    "start_time": "2024-08-09T08:15:35.455Z"
   },
   {
    "duration": 37,
    "start_time": "2024-08-09T08:15:35.495Z"
   },
   {
    "duration": 11,
    "start_time": "2024-08-09T08:15:35.536Z"
   },
   {
    "duration": 20,
    "start_time": "2024-08-09T08:15:35.550Z"
   },
   {
    "duration": 66,
    "start_time": "2024-08-09T08:15:35.573Z"
   },
   {
    "duration": 8,
    "start_time": "2024-08-09T08:15:35.642Z"
   },
   {
    "duration": 5,
    "start_time": "2024-08-09T08:15:35.654Z"
   },
   {
    "duration": 8,
    "start_time": "2024-08-09T08:15:35.662Z"
   },
   {
    "duration": 6,
    "start_time": "2024-08-09T08:15:35.677Z"
   },
   {
    "duration": 50,
    "start_time": "2024-08-09T08:15:35.686Z"
   },
   {
    "duration": 11,
    "start_time": "2024-08-09T08:15:35.740Z"
   },
   {
    "duration": 79,
    "start_time": "2024-08-09T08:15:35.754Z"
   },
   {
    "duration": 8,
    "start_time": "2024-08-09T08:15:35.836Z"
   },
   {
    "duration": 642,
    "start_time": "2024-08-09T08:15:35.848Z"
   },
   {
    "duration": 24,
    "start_time": "2024-08-09T08:15:36.493Z"
   },
   {
    "duration": 27,
    "start_time": "2024-08-09T08:15:36.537Z"
   },
   {
    "duration": 9,
    "start_time": "2024-08-09T08:15:36.567Z"
   },
   {
    "duration": 70653,
    "start_time": "2024-08-09T08:15:36.582Z"
   },
   {
    "duration": 16,
    "start_time": "2024-08-09T08:16:47.238Z"
   },
   {
    "duration": 5562,
    "start_time": "2024-08-09T08:16:47.257Z"
   },
   {
    "duration": 704,
    "start_time": "2024-08-09T08:16:52.822Z"
   },
   {
    "duration": 350,
    "start_time": "2024-08-09T08:16:53.532Z"
   },
   {
    "duration": 12752,
    "start_time": "2024-08-09T08:16:53.885Z"
   },
   {
    "duration": 9,
    "start_time": "2024-08-09T08:17:06.640Z"
   }
  ],
  "kernelspec": {
   "display_name": "Python 3 (ipykernel)",
   "language": "python",
   "name": "python3"
  },
  "language_info": {
   "codemirror_mode": {
    "name": "ipython",
    "version": 3
   },
   "file_extension": ".py",
   "mimetype": "text/x-python",
   "name": "python",
   "nbconvert_exporter": "python",
   "pygments_lexer": "ipython3",
   "version": "3.9.19"
  },
  "toc": {
   "base_numbering": 1,
   "nav_menu": {},
   "number_sections": true,
   "sideBar": true,
   "skip_h1_title": true,
   "title_cell": "Table of Contents",
   "title_sidebar": "Contents",
   "toc_cell": false,
   "toc_position": {},
   "toc_section_display": true,
   "toc_window_display": false
  }
 },
 "nbformat": 4,
 "nbformat_minor": 2
}
